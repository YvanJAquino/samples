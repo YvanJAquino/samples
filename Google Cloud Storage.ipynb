{
 "cells": [
  {
   "cell_type": "code",
   "execution_count": 2,
   "metadata": {},
   "outputs": [],
   "source": [
    "import os\n",
    "from google.cloud import storage"
   ]
  },
  {
   "cell_type": "code",
   "execution_count": 3,
   "metadata": {},
   "outputs": [],
   "source": [
    "gcs = storage.Client()\n",
    "sample = 'gs://gcp-public-data-landsat/LC08/PRE/001/002/LC80010022016230LGN00/LC80010022016230LGN00_MTL.txt'"
   ]
  },
  {
   "cell_type": "code",
   "execution_count": 4,
   "metadata": {},
   "outputs": [],
   "source": [
    "def read_from_uri(uri: str, client: storage.Client) -> bytes:\n",
    "    scheme, uri_path = uri.split('://')\n",
    "    if not scheme == 'gs':\n",
    "        raise ValueError\n",
    "    bucket_name, *folders, file = uri_path.split('/')\n",
    "    path = os.path.join(*folders, file)\n",
    "    bucket = client.get_bucket(bucket_name)\n",
    "    blob = bucket.get_blob(path)\n",
    "    byte_string = blob.download_as_string()\n",
    "    return byte_string"
   ]
  }
 ],
 "metadata": {
  "environment": {
   "name": "common-cpu.m56",
   "type": "gcloud",
   "uri": "gcr.io/deeplearning-platform-release/base-cpu:m56"
  },
  "kernelspec": {
   "display_name": "Python 3",
   "language": "python",
   "name": "python3"
  },
  "language_info": {
   "codemirror_mode": {
    "name": "ipython",
    "version": 3
   },
   "file_extension": ".py",
   "mimetype": "text/x-python",
   "name": "python",
   "nbconvert_exporter": "python",
   "pygments_lexer": "ipython3",
   "version": "3.7.8"
  }
 },
 "nbformat": 4,
 "nbformat_minor": 4
}
