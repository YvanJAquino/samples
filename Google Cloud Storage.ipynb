{
 "cells": [
  {
   "cell_type": "code",
   "execution_count": 2,
   "metadata": {},
   "outputs": [],
   "source": [
    "import os\n",
    "from google.cloud import storage"
   ]
  },
  {
   "cell_type": "code",
   "execution_count": 3,
   "metadata": {},
   "outputs": [],
   "source": [
    "gcs = storage.Client()\n",
    "sample = 'gs://gcp-public-data-landsat/LC08/PRE/001/002/LC80010022016230LGN00/LC80010022016230LGN00_MTL.txt'"
   ]
  },
  {
   "cell_type": "markdown",
   "metadata": {},
   "source": [
    "When using a GCS client within a AI Platform Notebook with default settings, the GCS client is able to infer the project, your credentials, and stashes as copy of your authorized session so you can re-use it in future calls.  This means your project, credentials, and AuthorizedSession are accessible as a members of the storage Client instance.  \n",
    "\n",
    "This is particularly useful if you need build a service using Google's REST Discovery Service - you can re-use the credentials object from the GCS client.  \n",
    "\n",
    "```python\n",
    "print(gcs.__dict__)\n",
    "{\n",
    "    ...,\n",
    "    'project': 'YOUR-PROJECT-NAME',\n",
    "    '_credentials': <google.oauth2.credentials.Credentials at 0x7fd3c66bf790>,\n",
    "    '_http_internal': <google.auth.transport.requests.AuthorizedSession at 0x7fd3c5856f10>,\n",
    "    ...\n",
    "}\n",
    "```"
   ]
  },
  {
   "cell_type": "code",
   "execution_count": 4,
   "metadata": {},
   "outputs": [],
   "source": [
    "def read_from_uri(uri: str, client: storage.Client) -> bytes:\n",
    "    scheme, uri_path = uri.split('://')\n",
    "    if not scheme == 'gs':\n",
    "        raise ValueError\n",
    "    bucket_name, *folders, file = uri_path.split('/')\n",
    "    path = os.path.join(*folders, file)\n",
    "    bucket = client.get_bucket(bucket_name)\n",
    "    blob = bucket.get_blob(path)\n",
    "    byte_string = blob.download_as_string()\n",
    "    return byte_string"
   ]
  }
 ],
 "metadata": {
  "environment": {
   "name": "common-cpu.m56",
   "type": "gcloud",
   "uri": "gcr.io/deeplearning-platform-release/base-cpu:m56"
  },
  "kernelspec": {
   "display_name": "Python 3",
   "language": "python",
   "name": "python3"
  },
  "language_info": {
   "codemirror_mode": {
    "name": "ipython",
    "version": 3
   },
   "file_extension": ".py",
   "mimetype": "text/x-python",
   "name": "python",
   "nbconvert_exporter": "python",
   "pygments_lexer": "ipython3",
   "version": "3.7.8"
  }
 },
 "nbformat": 4,
 "nbformat_minor": 4
}
